{
 "cells": [
  {
   "cell_type": "code",
   "execution_count": 1,
   "id": "6fabed32",
   "metadata": {},
   "outputs": [
    {
     "data": {
      "text/plain": [
       "'/opt/spark'"
      ]
     },
     "execution_count": 1,
     "metadata": {},
     "output_type": "execute_result"
    }
   ],
   "source": [
    "import findspark\n",
    "# Initiate findspark\n",
    "findspark.init()\n",
    "# Check the location for Spark\n",
    "findspark.find()"
   ]
  },
  {
   "cell_type": "code",
   "execution_count": 47,
   "id": "33497929",
   "metadata": {},
   "outputs": [],
   "source": [
    "from pyspark.sql import SparkSession\n",
    "spark = SparkSession.builder\\\n",
    "        .master(\"local\")\\\n",
    "        .appName(\"bkk-property\")\\\n",
    "        .config('spark.ui.port', '4050')\\\n",
    "        .getOrCreate()"
   ]
  },
  {
   "cell_type": "code",
   "execution_count": 48,
   "id": "d414084b",
   "metadata": {},
   "outputs": [],
   "source": [
    "df = spark.read.csv('/notebooks/bangkok_condo.csv', header = True)"
   ]
  },
  {
   "cell_type": "code",
   "execution_count": 49,
   "id": "7e42866d",
   "metadata": {},
   "outputs": [
    {
     "name": "stdout",
     "output_type": "stream",
     "text": [
      "+-------+--------------------+\n",
      "|summary|               price|\n",
      "+-------+--------------------+\n",
      "|  count|                9992|\n",
      "|   mean|1.0986903683283282E7|\n",
      "| stddev|1.6853254392430276E7|\n",
      "|    min|             1000000|\n",
      "|    max|                Sold|\n",
      "+-------+--------------------+\n",
      "\n"
     ]
    }
   ],
   "source": [
    "df.describe(['price']).show()"
   ]
  },
  {
   "cell_type": "code",
   "execution_count": 59,
   "id": "3f428c6e",
   "metadata": {},
   "outputs": [
    {
     "name": "stdout",
     "output_type": "stream",
     "text": [
      "+-------+--------------------+\n",
      "|summary|               price|\n",
      "+-------+--------------------+\n",
      "|  count|                9990|\n",
      "|   mean|1.0986903683283282E7|\n",
      "| stddev|1.6853254392430276E7|\n",
      "|    min|              199000|\n",
      "|    max|           450000000|\n",
      "+-------+--------------------+\n",
      "\n"
     ]
    }
   ],
   "source": [
    "from pyspark.sql.functions import col\n",
    "from pyspark.sql.types import IntegerType\n",
    "\n",
    "df = df.withColumn(\"price\", col(\"price\").cast(IntegerType()))\n",
    "df.describe(['price']).show()"
   ]
  }
 ],
 "metadata": {
  "kernelspec": {
   "display_name": "Python 3 (ipykernel)",
   "language": "python",
   "name": "python3"
  },
  "language_info": {
   "codemirror_mode": {
    "name": "ipython",
    "version": 3
   },
   "file_extension": ".py",
   "mimetype": "text/x-python",
   "name": "python",
   "nbconvert_exporter": "python",
   "pygments_lexer": "ipython3",
   "version": "3.7.17"
  }
 },
 "nbformat": 4,
 "nbformat_minor": 5
}
